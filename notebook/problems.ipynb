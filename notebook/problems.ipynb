{
 "cells": [
  {
   "cell_type": "markdown",
   "id": "a41f3622",
   "metadata": {},
   "source": [
    "# Probability exercises"
   ]
  },
  {
   "cell_type": "markdown",
   "id": "a6bdbd89",
   "metadata": {},
   "source": [
    "## Exercise 1 \n",
    "\n",
    "Two dices are thrown once and the total score is observed. Use a simulation to find the estimated probability that the total score is even or greater than 7.  A simulation is a repetition of the same experiment multiple times to observe its behavior:\n",
    "\n",
    "- Run the experiment 1000 times (roll 2 dice 1000 times, and sum the number of both dices).\n",
    "- Keep track of the number of times that the sum was either greater than 7 or an even number.\n",
    "- Divide the number from step 2 by the number of iterations (1000)."
   ]
  },
  {
   "cell_type": "code",
   "execution_count": 20,
   "id": "d89ad4de",
   "metadata": {},
   "outputs": [
    {
     "name": "stdout",
     "output_type": "stream",
     "text": [
      "The probability that the total score is even or greater than 7 is: 0.659\n"
     ]
    }
   ],
   "source": [
    "# import libraries\n",
    "\n",
    "import matplotlib.pyplot as plt\n",
    "import numpy as np\n",
    "import pandas as pd\n",
    "\n",
    "#P(Probability that the total score is even or greater than 7)\n",
    "\n",
    "def roll_the_dice(n=1000):\n",
    "\n",
    "    dice_1=[]\n",
    "    dice_2=[]\n",
    "    score=[]\n",
    "    counter=0\n",
    "\n",
    "    for i in range (0,n):\n",
    "    \n",
    "        d1 = np.random.randint(1,7)\n",
    "        dice_1.append(d1)\n",
    "\n",
    "        d2 = np.random.randint(1,7)\n",
    "        dice_2.append(d2)\n",
    "\n",
    "        sum=d1+d2\n",
    "        score.append(sum)\n",
    "\n",
    "        if sum > 7 or sum % 2 ==0:\n",
    "            counter=counter+1\n",
    "    \n",
    "    return counter/n\n",
    "\n",
    "print(f\"The probability that the total score is even or greater than 7 is: {roll_the_dice()}\")\n"
   ]
  },
  {
   "cell_type": "markdown",
   "id": "55732bca",
   "metadata": {},
   "source": [
    "## Exercise 2\n",
    "\n",
    "A box contains 10 white balls, 20 red balls and 30 green balls. If we take 5 balls from the box with replacement (we take the ball, observe what color it is and put it back into the box). We want to know the probability of:\n",
    "\n",
    "1. Take 3 white and 2 red.\n",
    "2. Take all of the same color.\n",
    "\n",
    "Run the experiment 1000 times and calculate the above probabilities."
   ]
  },
  {
   "cell_type": "code",
   "execution_count": 27,
   "id": "23244d20",
   "metadata": {},
   "outputs": [],
   "source": [
    "# import libraries\n",
    "\n",
    "import matplotlib.pyplot as plt\n",
    "import numpy as np\n",
    "import pandas as pd\n",
    "import random"
   ]
  },
  {
   "cell_type": "code",
   "execution_count": 44,
   "id": "70e2a38b",
   "metadata": {},
   "outputs": [
    {
     "name": "stdout",
     "output_type": "stream",
     "text": [
      "The probability of 3 white and 2 red is: 0.5%\n",
      "The probability of all the same color is: 3.0%\n"
     ]
    }
   ],
   "source": [
    "box=[\"White\"]*10+[\"Red\"]*20+[\"Green\"]*30\n",
    "\n",
    "counter1=0\n",
    "counter2=0\n",
    "n=1000\n",
    "prob1=0\n",
    "prob2=0\n",
    "\n",
    "for _ in range(n):\n",
    "  draw = [random.choice(box) for _ in range(5)]\n",
    "  if draw.count('White') == 3 and draw.count('Red') == 2:\n",
    "    counter1 += 1\n",
    "  if draw.count(draw[0]) == 5:\n",
    "    counter2 += 1\n",
    "\n",
    "# Calculate probabilities\n",
    "p1 = counter1 / n\n",
    "p2 = counter2 / n\n",
    "\n",
    "print(f\"The probability of 3 white and 2 red is: {round(p1 * 100, 2)}%\")\n",
    "print(f\"The probability of all the same color is: {round(p2 * 100, 2)}%\")"
   ]
  },
  {
   "cell_type": "code",
   "execution_count": null,
   "id": "a92b2c3b",
   "metadata": {},
   "outputs": [],
   "source": []
  }
 ],
 "metadata": {
  "kernelspec": {
   "display_name": "Python 3",
   "language": "python",
   "name": "python3"
  },
  "language_info": {
   "codemirror_mode": {
    "name": "ipython",
    "version": 3
   },
   "file_extension": ".py",
   "mimetype": "text/x-python",
   "name": "python",
   "nbconvert_exporter": "python",
   "pygments_lexer": "ipython3",
   "version": "3.11.4"
  }
 },
 "nbformat": 4,
 "nbformat_minor": 5
}
