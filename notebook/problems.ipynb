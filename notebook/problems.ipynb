{
 "cells": [
  {
   "cell_type": "markdown",
   "id": "a41f3622",
   "metadata": {},
   "source": [
    "# Probability exercises"
   ]
  },
  {
   "cell_type": "markdown",
   "id": "a6bdbd89",
   "metadata": {},
   "source": [
    "## Exercise 1 \n",
    "\n",
    "Two dices are thrown once and the total score is observed. Use a simulation to find the estimated probability that the total score is even or greater than 7.  A simulation is a repetition of the same experiment multiple times to observe its behavior:\n",
    "\n",
    "- Run the experiment 1000 times (roll 2 dice 1000 times, and sum the number of both dices).\n",
    "- Keep track of the number of times that the sum was either greater than 7 or an even number.\n",
    "- Divide the number from step 2 by the number of iterations (1000)."
   ]
  },
  {
   "cell_type": "code",
   "execution_count": 20,
   "id": "d89ad4de",
   "metadata": {},
   "outputs": [
    {
     "name": "stdout",
     "output_type": "stream",
     "text": [
      "The probability that the total score is even or greater than 7 is: 0.659\n"
     ]
    }
   ],
   "source": [
    "# import libraries\n",
    "\n",
    "import matplotlib.pyplot as plt\n",
    "import numpy as np\n",
    "import pandas as pd\n",
    "\n",
    "#P(Probability that the total score is even or greater than 7)\n",
    "\n",
    "def roll_the_dice(n=1000):\n",
    "\n",
    "    dice_1=[]\n",
    "    dice_2=[]\n",
    "    score=[]\n",
    "    counter=0\n",
    "\n",
    "    for i in range (0,n):\n",
    "    \n",
    "        d1 = np.random.randint(1,7)\n",
    "        dice_1.append(d1)\n",
    "\n",
    "        d2 = np.random.randint(1,7)\n",
    "        dice_2.append(d2)\n",
    "\n",
    "        sum=d1+d2\n",
    "        score.append(sum)\n",
    "\n",
    "        if sum > 7 or sum % 2 ==0:\n",
    "            counter=counter+1\n",
    "    \n",
    "    return counter/n\n",
    "\n",
    "print(f\"The probability that the total score is even or greater than 7 is: {roll_the_dice()}\")\n"
   ]
  },
  {
   "cell_type": "markdown",
   "id": "55732bca",
   "metadata": {},
   "source": [
    "## Exercise 2\n",
    "\n",
    "A box contains 10 white balls, 20 red balls and 30 green balls. If we take 5 balls from the box with replacement (we take the ball, observe what color it is and put it back into the box). We want to know the probability of:\n",
    "\n",
    "1. Take 3 white and 2 red.\n",
    "2. Take all of the same color.\n",
    "\n",
    "Run the experiment 1000 times and calculate the above probabilities."
   ]
  },
  {
   "cell_type": "code",
   "execution_count": 22,
   "id": "23244d20",
   "metadata": {},
   "outputs": [
    {
     "name": "stdout",
     "output_type": "stream",
     "text": [
      "{0: 'White', 1: 'White', 2: 'White', 3: 'White', 4: 'White', 5: 'White', 6: 'White', 7: 'White', 8: 'White', 9: 'White', 10: 'Red', 11: 'Red', 12: 'Red', 13: 'Red', 14: 'Red', 15: 'Red', 16: 'Red', 17: 'Red', 18: 'Red', 19: 'Red', 20: 'Red', 21: 'Red', 22: 'Red', 23: 'Red', 24: 'Red', 25: 'Red', 26: 'Red', 27: 'Red', 28: 'Red', 29: 'Red', 30: 'Green', 31: 'Green', 32: 'Green', 33: 'Green', 34: 'Green', 35: 'Green', 36: 'Green', 37: 'Green', 38: 'Green', 39: 'Green', 40: 'Green', 41: 'Green', 42: 'Green', 43: 'Green', 44: 'Green', 45: 'Green', 46: 'Green', 47: 'Green', 48: 'Green', 49: 'Green', 50: 'Green', 51: 'Green', 52: 'Green', 53: 'Green', 54: 'Green', 55: 'Green', 56: 'Green', 57: 'Green', 58: 'Green', 59: 'Green'}\n",
      "The probability of 3 white and 2 red is: 0.5%\n",
      "The probability of all the same color is: 3.4%\n"
     ]
    }
   ],
   "source": [
    "ball_box = {}\n",
    "\n",
    "# Create the box of balls\n",
    "\n",
    "for i in range(60):\n",
    "\n",
    "    if i < 10:\n",
    "        ball_box[i] = \"White\"\n",
    "    elif (i > 9) and (i < 30):\n",
    "        ball_box[i] = \"Red\"\n",
    "    else:\n",
    "        ball_box[i] = \"Green\"\n",
    "\n",
    "print(ball_box)\n",
    "            \n",
    "# TODO\n",
    "\n",
    "def take_balls(n_simulations = 1000):\n",
    "    count_1 = 0\n",
    "    count_2 = 0\n",
    "\n",
    "    for i in range(n_simulations):\n",
    "        colors = []\n",
    "\n",
    "        # Take 5 balls from the box\n",
    "        for i in range(5):\n",
    "            colors.append(ball_box[np.random.randint(0, 59)])\n",
    "\n",
    "        # Convert list to Numpy array for better filtering\n",
    "        colors = np.array(colors)\n",
    "        \n",
    "        white_balls = sum(colors == \"White\")\n",
    "        red_balls = sum(colors == \"Red\")\n",
    "        green_balls = sum(colors == \"Green\")\n",
    "\n",
    "        # Decide if we should add it to the count:\n",
    "        if (white_balls == 3) and (red_balls == 2):\n",
    "            count_1 += 1\n",
    "        \n",
    "        if (white_balls == 5) or (red_balls == 5) or (green_balls == 5):\n",
    "            count_2 += 1\n",
    "    \n",
    "    return count_1 / n_simulations, count_2 / n_simulations\n",
    "\n",
    "probabilities = take_balls(1000)\n",
    "\n",
    "print(f\"The probability of 3 white and 2 red is: {np.round(probabilities[0] * 100, 2)}%\")\n",
    "print(f\"The probability of all the same color is: {np.round(probabilities[1] * 100, 2)}%\")\n",
    "\n"
   ]
  }
 ],
 "metadata": {
  "kernelspec": {
   "display_name": "Python 3",
   "language": "python",
   "name": "python3"
  },
  "language_info": {
   "codemirror_mode": {
    "name": "ipython",
    "version": 3
   },
   "file_extension": ".py",
   "mimetype": "text/x-python",
   "name": "python",
   "nbconvert_exporter": "python",
   "pygments_lexer": "ipython3",
   "version": "3.11.4"
  }
 },
 "nbformat": 4,
 "nbformat_minor": 5
}
